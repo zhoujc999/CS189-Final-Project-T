{
  "nbformat": 4,
  "nbformat_minor": 0,
  "metadata": {
    "colab": {
      "name": "Untitled0.ipynb",
      "provenance": [],
      "collapsed_sections": []
    },
    "kernelspec": {
      "name": "python3",
      "display_name": "Python 3"
    }
  },
  "cells": [
    {
      "cell_type": "markdown",
      "metadata": {
        "id": "Vai7QX7UJU18"
      },
      "source": [
        "# Quiz"
      ]
    },
    {
      "cell_type": "markdown",
      "metadata": {
        "id": "lJDe6eBIJXsU"
      },
      "source": [
        "## Q1.\n",
        "\n",
        "Which of the following tools is typically NOT relevant for a machine learning workflow?\n",
        "\n",
        "1. AWS SageMaker\n",
        "\n",
        "2. AWS Sumerian\n",
        "\n",
        "3. AWS EMR\n",
        "\n",
        "4. AWS Rekognition\n",
        "\n",
        "Answer: 2"
      ]
    },
    {
      "cell_type": "markdown",
      "metadata": {
        "id": "IJ1b8ElyRFtk"
      },
      "source": [
        "## Q2.\n",
        "\n",
        "Which of the following is NOT an advantage that running a machine learning workflow on the cloud offers?\n",
        "\n",
        "1. Reduced cost of training\n",
        "\n",
        "2. Increased availability\n",
        "\n",
        "3. Better compatability\n",
        "\n",
        "4. Ease of use\n",
        "\n",
        "Answer: 3"
      ]
    },
    {
      "cell_type": "markdown",
      "metadata": {
        "id": "llgAhiApRDOl"
      },
      "source": [
        "## Q3.\n",
        "\n",
        "Which of the following is NOT a good use case for using Amazon Rekognition?\n",
        "\n",
        "1. Scene Detection\n",
        "\n",
        "2. Object Detection\n",
        "\n",
        "3. Text in image detection\n",
        "\n",
        "4. Fraud Detection\n",
        "\n",
        "Answer: 4"
      ]
    },
    {
      "cell_type": "markdown",
      "metadata": {
        "id": "uGLuQKsXYgWl"
      },
      "source": [
        "## Q4.\n",
        "\n",
        "A company wants to use machine learning to detect the incoming text in images to create a searchable video library. They want to extract metadata from the images and index the metadata that can be searched by users easily with minimum management of the proposed pipeline. What should you as an architect recommend their solution be?\n",
        "\n",
        "1. Use Amazon Rekognition to detect text in an images and use Amazon Elasticsearch Service to index the files\n",
        "\n",
        "2. Use Amazon Rekognition to to detect text in an images and use the DetectedText() API to search the index\n",
        "\n",
        "\n",
        "3. Use Amazon EMR to create a CNN model to detect text in an image and use Amazon DynamoDB to index the files\n",
        "\n",
        "\n",
        "4. Use Amazon SageMaker to create a CNN model to detect text in an image and use Amazon DynamoDB to index the files\n",
        "\n",
        "Answer: 1"
      ]
    },
    {
      "cell_type": "markdown",
      "metadata": {
        "id": "bODuo_oxYn9w"
      },
      "source": [
        "## Q5.\n",
        "\n",
        "You need to have deep learning expertise to create image metadata and recognize faces using Amazon SageMaker?\n",
        "\n",
        "1. T​rue\n",
        "\n",
        "2. F​alse\n",
        "\n",
        "Answer: 1"
      ]
    },
    {
      "cell_type": "markdown",
      "metadata": {
        "id": "Igbt3vID-ETx"
      },
      "source": [
        "## Q6.\n",
        "\n",
        "A credit card company wants to determine the sentiment of customers using the support tickets to classify whether the issue is urgent or not and in the process rate the service agents based on the customer feedback. What AWS service is best suited to create this solution?\n",
        "\n",
        "1. Amazon Comprehend\n",
        "\n",
        "2. Amazon Personalize\n",
        "\n",
        "3. Amazon Textract\n",
        "\n",
        "4. Amazon Rekognition\n",
        "\n",
        "Answer: 1"
      ]
    },
    {
      "cell_type": "markdown",
      "metadata": {
        "id": "XOTh8ZpG-ZZ4"
      },
      "source": [
        "## Q7.\n",
        "\n",
        "A news organization wants to have transcription of their prime time news for video on-demand service. They are looking for a solution that provides transcription of their news in various languages with minimum management. What AWS services can they use to to create this solution?\n",
        "\n",
        "\n",
        "1. Use Amazon Lex to transcribe and translate the videos\n",
        "\n",
        "2. Use Amazon Transcribe to transcribe and Amazon Translate to translate the videos\n",
        "\n",
        "3. Use Amazon Transcribe to transcribe and Amazon Polly translate the videos\n",
        "\n",
        "4. Use Amazon Translate to transcribe and translate the videos\n",
        "\n",
        "Answer: 3\n"
      ]
    },
    {
      "cell_type": "markdown",
      "metadata": {
        "id": "2cTW3mOr_wZV"
      },
      "source": [
        "## Q8.\n",
        "\n",
        "What is the best way to describe the service Amazon SageMaker?\n",
        "\n",
        "\n",
        "\n",
        "\n",
        "1. Amazon SageMaker is a framework that helps customers create neural network algorithms and deploy the models\n",
        "\n",
        "2. Amazon SageMaker is an API blackbox service that helps customers create their machine learning algorithms\n",
        "\n",
        "3. Amazon SageMaker is a service that creates, test and validates and deploys your models using Pytorch\n",
        "\n",
        "4. Amazon SageMaker is a fully managed platform service that helps customers through each stage of their machine learning pipeline from creating datasets, training, optimizing and deploying their machine\n",
        "\n",
        "Answer: 4"
      ]
    },
    {
      "cell_type": "markdown",
      "metadata": {
        "id": "ePKLBIb7AuOU"
      },
      "source": [
        "## Q9.\n",
        "\n",
        "In which order would you use the different components of Amazon SageMaker in a machine learning pipeline?\n",
        "\n",
        "1. Amazon SageMaker Neo > Amazon SageMaker Hyperparameter Tuning Jobs > Amazon SageMaker Training Jobs > Amazon SageMaker GroundTruth\n",
        "\n",
        "2. Amazon Sage Maker Ground Truth > Amazon SageMaker Training Jobs > Amazon SageMaker Hyperparameter Tuning Jobs > Amazon SageMaker Neo\n",
        "\n",
        "3. Amazon SageMaker Training Jobs > Amazon SageMaker Ground Truth > Amazon SageMaker Hyperparameter Tuning Jobs > Amazon SageMaker Neo\n",
        "\n",
        "4. Amazon SageMaker Neo > Amazon SageMaker Training Jobs > Amazon SageMaker Hyperparameter Tuning Jobs > Amazon SageMaker Ground Truth\n",
        "\n",
        "Answer: 2"
      ]
    },
    {
      "cell_type": "markdown",
      "metadata": {
        "id": "2H4jYoImAv4A"
      },
      "source": [
        "## Q10.\n",
        "\n",
        "A manufacturing company trained their CNN models using Amazon SageMaker python SDK. What function should they use to create an automatic hyperparameter tuning job in Amazon SageMaker SDK?\n",
        "\n",
        "1. `HyperparameterTuningJob()`\n",
        "\n",
        "2. `HyperparameterTuner()`\n",
        "\n",
        "3. `CreateHyperParameterTuningJob()`\n",
        "\n",
        "4. `HyperparameterTuning()`\n",
        "\n",
        "Answer: 3"
      ]
    },
    {
      "cell_type": "markdown",
      "metadata": {
        "id": "Elr4ZDnQA9FH"
      },
      "source": [
        "## Q11.\n",
        "\n",
        "For image classification tasks, what is the best storage layer to use along with Amazon SageMaker?\n",
        "\n",
        "1. Amazon EBS\n",
        "\n",
        "2. Amazon S3\n",
        "\n",
        "3. Amazon Glue\n",
        "\n",
        "4. Amazon EFS\n",
        "\n",
        "Answer: 2"
      ]
    }
  ]
}